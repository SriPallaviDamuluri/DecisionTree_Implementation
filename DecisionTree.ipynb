{
 "cells": [
  {
   "cell_type": "code",
   "execution_count": 1,
   "metadata": {
    "collapsed": true
   },
   "outputs": [],
   "source": [
    "training_data=[\n",
    "    ['sunny','hot','high','weak','yes'],\n",
    "    ['sunny','hot','high','strong','no'],\n",
    "    ['overcast','hot','high','weak','maybe'],\n",
    "    ['overcast','cool','normal','weak','no'],\n",
    "    ['rain','mild','high','weak','maybe'],\n",
    "    ['rain','cool','normal','weak','yes'],\n",
    "    ['rain','cool','normal','strong','no'],\n",
    "    ['overcast','cool','normal','weak','yes'],\n",
    "    ['sunny','mild','high','weak','no'],\n",
    "    ['sunny','hot','high','strong','yes'],\n",
    "    ['sunny','cold','normal','weak','yes'],\n",
    "    ['rain','mild','normal','strong','yes'],\n",
    "    ['rain','cool','normal','strong','maybe'],\n",
    "    ['rain','cool','normal','strong','yes'],\n",
    "]\n",
    "\n",
    "header=[\"outlook\",\"temp\",\"humidity\",\"wind\",\"play_tennis?\"]"
   ]
  },
  {
   "cell_type": "code",
   "execution_count": 2,
   "metadata": {},
   "outputs": [
    {
     "data": {
      "text/plain": [
       "{'maybe': 3, 'no': 4, 'yes': 7}"
      ]
     },
     "execution_count": 2,
     "metadata": {},
     "output_type": "execute_result"
    }
   ],
   "source": [
    "def class_counts(rows):\n",
    "    count={}\n",
    "    for row in rows:\n",
    "        target=row[-1]\n",
    "        if target not in count:\n",
    "            count[target]=0\n",
    "        count[target]+=1\n",
    "    return count\n",
    "class_counts(training_data)"
   ]
  },
  {
   "cell_type": "code",
   "execution_count": 3,
   "metadata": {},
   "outputs": [
    {
     "data": {
      "text/plain": [
       "Is outlook == rain?"
      ]
     },
     "execution_count": 3,
     "metadata": {},
     "output_type": "execute_result"
    }
   ],
   "source": [
    "class Decision:\n",
    "    \n",
    "\n",
    "    def __init__(self, column, value):\n",
    "        self.column = column\n",
    "        self.value = value\n",
    "\n",
    "    def match(self, example):\n",
    "       \n",
    "        val = example[self.column]\n",
    "        return val == self.value\n",
    "\n",
    "    def __repr__(self):\n",
    "       \n",
    "        condition = \"==\"\n",
    "        return \"Is %s %s %s?\" % (\n",
    "            header[self.column], condition, str(self.value))\n",
    "Decision(0, \"rain\")"
   ]
  },
  {
   "cell_type": "code",
   "execution_count": 6,
   "metadata": {},
   "outputs": [],
   "source": [
    "def partition(rows, question):\n",
    "   \n",
    "    true_rows, false_rows = [], []\n",
    "    for row in rows:\n",
    "        if question.match(row):\n",
    "            true_rows.append(row)\n",
    "        else:\n",
    "            false_rows.append(row)\n",
    "    return true_rows, false_rows\n",
    "\n"
   ]
  },
  {
   "cell_type": "code",
   "execution_count": 8,
   "metadata": {},
   "outputs": [
    {
     "data": {
      "text/plain": [
       "[['sunny', 'hot', 'high', 'weak', 'yes'],\n",
       " ['sunny', 'hot', 'high', 'strong', 'no'],\n",
       " ['sunny', 'mild', 'high', 'weak', 'no'],\n",
       " ['sunny', 'hot', 'high', 'strong', 'yes'],\n",
       " ['sunny', 'cold', 'normal', 'weak', 'yes']]"
      ]
     },
     "execution_count": 8,
     "metadata": {},
     "output_type": "execute_result"
    }
   ],
   "source": [
    "true_rows, false_rows = partition(training_data, Decision(0,\"sunny\"))\n",
    "true_rows"
   ]
  },
  {
   "cell_type": "code",
   "execution_count": 9,
   "metadata": {
    "collapsed": true
   },
   "outputs": [],
   "source": [
    "def gini(rows):\n",
    "   \n",
    "    counts = class_counts(rows)\n",
    "    impurity = 1\n",
    "    for tr in counts:\n",
    "        prob_of_tr = counts[tr] / float(len(rows))\n",
    "        impurity -= prob_of_tr**2\n",
    "    return impurity"
   ]
  },
  {
   "cell_type": "code",
   "execution_count": 10,
   "metadata": {
    "collapsed": true
   },
   "outputs": [],
   "source": [
    "def info_gain(true, false, current_uncertainty):\n",
    "   \n",
    "    p = float(len(true)) / (len(true) + len(false))\n",
    "    return current_uncertainty - p * gini(true) - (1 - p) * gini(false)"
   ]
  },
  {
   "cell_type": "code",
   "execution_count": 20,
   "metadata": {
    "collapsed": true
   },
   "outputs": [],
   "source": [
    "def find_best_split(rows):\n",
    "  \n",
    "    best_gain = 0  \n",
    "    best_question = None  \n",
    "    current_uncertainty = gini(rows)\n",
    "    n_features = len(rows[0]) - 1 \n",
    "\n",
    "    for col in range(n_features): \n",
    "\n",
    "        values = set([row[col] for row in rows])  \n",
    "\n",
    "        for val in values: \n",
    "\n",
    "            question = Decision(col, val)\n",
    "\n",
    "           \n",
    "            true_rows, false_rows = partition(rows, question)\n",
    "\n",
    "           \n",
    "            if len(true_rows) == 0 or len(false_rows) == 0:\n",
    "                continue\n",
    "\n",
    "          \n",
    "            gain = info_gain(true_rows, false_rows, current_uncertainty)\n",
    "\n",
    "           \n",
    "            if gain >= best_gain:\n",
    "                best_gain, best_question = gain, question\n",
    "\n",
    "    return best_gain, best_question"
   ]
  },
  {
   "cell_type": "code",
   "execution_count": 21,
   "metadata": {
    "collapsed": true
   },
   "outputs": [],
   "source": [
    "class Leaf:\n",
    "   \n",
    "    def __init__(self, rows):\n",
    "        self.predictions = class_counts(rows)"
   ]
  },
  {
   "cell_type": "code",
   "execution_count": 22,
   "metadata": {
    "collapsed": true
   },
   "outputs": [],
   "source": [
    "class Decision_Node:\n",
    "   \n",
    "    def __init__(self,question,true_branch,false_branch):\n",
    "        self.question = question\n",
    "        self.true_branch = true_branch\n",
    "        self.false_branch = false_branch"
   ]
  },
  {
   "cell_type": "code",
   "execution_count": 23,
   "metadata": {
    "collapsed": true
   },
   "outputs": [],
   "source": [
    "def build_tree(rows):\n",
    "   \n",
    "    gain, question = find_best_split(rows)\n",
    "    if gain == 0:\n",
    "        return Leaf(rows)\n",
    "\n",
    "    true_rows, false_rows = partition(rows, question)\n",
    "    true_branch = build_tree(true_rows)\n",
    "    false_branch = build_tree(false_rows)\n",
    "    return Decision_Node(question, true_branch, false_branch)"
   ]
  },
  {
   "cell_type": "code",
   "execution_count": 24,
   "metadata": {
    "collapsed": true
   },
   "outputs": [],
   "source": [
    "def print_tree(node, spacing=\"\"):\n",
    "    if isinstance(node, Leaf):\n",
    "        print (spacing + \"Predict\", node.predictions)\n",
    "        return\n",
    "    print (spacing + str(node.question))\n",
    "    print (spacing + '--> True:')\n",
    "    print_tree(node.true_branch, spacing + \"  \")\n",
    "    print (spacing + '--> False:')\n",
    "    print_tree(node.false_branch, spacing + \"  \")"
   ]
  },
  {
   "cell_type": "code",
   "execution_count": 26,
   "metadata": {},
   "outputs": [
    {
     "name": "stdout",
     "output_type": "stream",
     "text": [
      "Is outlook == sunny?\n",
      "--> True:\n",
      "  Is temp == mild?\n",
      "  --> True:\n",
      "    Predict {'no': 1}\n",
      "  --> False:\n",
      "    Is wind == weak?\n",
      "    --> True:\n",
      "      Predict {'yes': 2}\n",
      "    --> False:\n",
      "      Predict {'no': 1, 'yes': 1}\n",
      "--> False:\n",
      "  Is humidity == normal?\n",
      "  --> True:\n",
      "    Is temp == cool?\n",
      "    --> True:\n",
      "      Is wind == weak?\n",
      "      --> True:\n",
      "        Is outlook == overcast?\n",
      "        --> True:\n",
      "          Predict {'no': 1, 'yes': 1}\n",
      "        --> False:\n",
      "          Predict {'yes': 1}\n",
      "      --> False:\n",
      "        Predict {'no': 1, 'maybe': 1, 'yes': 1}\n",
      "    --> False:\n",
      "      Predict {'yes': 1}\n",
      "  --> False:\n",
      "    Predict {'maybe': 2}\n"
     ]
    }
   ],
   "source": [
    "my_tree = build_tree(training_data)\n",
    "print_tree(my_tree)"
   ]
  },
  {
   "cell_type": "code",
   "execution_count": 27,
   "metadata": {
    "collapsed": true
   },
   "outputs": [],
   "source": [
    "def classify(row, node):\n",
    "    if isinstance(node, Leaf):\n",
    "        return node.predictions\n",
    "    if node.question.match(row):\n",
    "        return classify(row, node.true_branch)\n",
    "    else:\n",
    "        return classify(row, node.false_branch)"
   ]
  },
  {
   "cell_type": "code",
   "execution_count": 28,
   "metadata": {
    "collapsed": true
   },
   "outputs": [],
   "source": [
    " testing_data=[\n",
    "    ['sunny','mild','normal','weak','no'],\n",
    "    ['sunny','mild','normal','weak','maybe'],\n",
    "    ['overcast','hot','high','high','maybe'],\n",
    "     ['overcast','cool','normal','high','no'],\n",
    "     ['rain','mild','high','strong','no'],\n",
    "     ['rain','cool','normal','strong','no'],\n",
    "     ['rain','cool','normal','weak','yes'],\n",
    "]"
   ]
  },
  {
   "cell_type": "code",
   "execution_count": 29,
   "metadata": {
    "collapsed": true
   },
   "outputs": [],
   "source": [
    "def print_leaf(counts):\n",
    "    total = sum(counts.values()) * 1.0\n",
    "    probs = {}\n",
    "    for tr in counts.keys():\n",
    "        probs[tr] = str(int(counts[tr] / total * 100)) + \"%\"\n",
    "    return probs"
   ]
  },
  {
   "cell_type": "code",
   "execution_count": 30,
   "metadata": {},
   "outputs": [
    {
     "name": "stdout",
     "output_type": "stream",
     "text": [
      "Actual: no. Predicted: {'no': '100%'}\n",
      "Actual: maybe. Predicted: {'no': '100%'}\n",
      "Actual: maybe. Predicted: {'maybe': '100%'}\n",
      "Actual: no. Predicted: {'no': '33%', 'maybe': '33%', 'yes': '33%'}\n",
      "Actual: no. Predicted: {'maybe': '100%'}\n",
      "Actual: no. Predicted: {'no': '33%', 'maybe': '33%', 'yes': '33%'}\n",
      "Actual: yes. Predicted: {'yes': '100%'}\n"
     ]
    }
   ],
   "source": [
    "for row in testing_data:\n",
    "    print (\"Actual: %s. Predicted: %s\" %\n",
    "           (row[-1], print_leaf(classify(row, my_tree))))"
   ]
  },
  {
   "cell_type": "code",
   "execution_count": null,
   "metadata": {
    "collapsed": true
   },
   "outputs": [],
   "source": []
  }
 ],
 "metadata": {
  "kernelspec": {
   "display_name": "Python [conda root]",
   "language": "python",
   "name": "conda-root-py"
  },
  "language_info": {
   "codemirror_mode": {
    "name": "ipython",
    "version": 3
   },
   "file_extension": ".py",
   "mimetype": "text/x-python",
   "name": "python",
   "nbconvert_exporter": "python",
   "pygments_lexer": "ipython3",
   "version": "3.6.1"
  }
 },
 "nbformat": 4,
 "nbformat_minor": 2
}
